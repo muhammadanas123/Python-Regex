{
 "cells": [
  {
   "cell_type": "code",
   "execution_count": 12,
   "metadata": {},
   "outputs": [
    {
     "name": "stdout",
     "output_type": "stream",
     "text": [
      "airport expand waiting face river rich carpenter beneficial flock \n",
      "grip eminent ten rake competition science wicked worried communicate deeply example permit \n",
      "satisfy imaginary sweltering battle repusive jittery shirt festive tub picayune futuristic motion \n",
      "comfortable rabid question instrument tow dramatic mourn cakes listen female one rail cool extend tip \n",
      "thunder sister prepare joyous wheel two drawer cloudy goofy mountain empty upset nifty rhythm zoo bed offend \n",
      "gleaming birthday cuddly chop sand overrated jolly melt uneven home marked sore tax pull lettuce \n",
      "chin retire mixed school brass division spotty electric strange chase sink grease hateful \n",
      "agree analyze illfated realize fade follow yoke\n",
      "Contrary to popular belief Lorem Ipsum is not simply random text It has roots in a piece of \n",
      "classical Latin literature from 45 BC making it over 2000 years old Richard McClintock a Latin \n",
      "professor at HampdenSydney College in Virginia looked up one of the more obscure Latin words \n",
      "consectetur from a Lorem Ipsum passage and going through the cites of the word in classical literature \n",
      "discovered the undoubtable source Lorem Ipsum comes from sections 32 and 33 of \n",
      "de Finibus Bonorum et M\n",
      "alorum The Extremes of Good and Evil by Cicero written in 45 BC This \n",
      "book is a treatise on the theory of ethics very popular during the Renaissance The first line of \n",
      "Lorem Ipsum Lorem ipsum dolor sit amet comes from a line in section 32\n",
      "The standard chunk of Lorem Ipsum used since the 1500s is reproduced below for those interested \n",
      "Sections 32 and 33 from de Finibus Bonorum et Malorum by Cicero are also \n",
      "reproduced in their exact original form accompanied by English versions from the 1914 translation by H Rackham\n",
      "\n",
      "\n",
      "--- 0.0031325817108154297 seconds ---\n"
     ]
    }
   ],
   "source": [
    "import re\n",
    "import time\n",
    "#start_time = time.time()\n",
    "\n",
    "f = open(\"random words\", \"r\")\n",
    "words= f.read()\n",
    "word_re = r'\\w*[^\\.\"\",()-@#$%^&*_~`\\/''!;:]'\n",
    "pattern1 = re.compile(word_re)\n",
    "matches1 = pattern1.findall(words)\n",
    "str1=\"\"\n",
    "x=0;\n",
    "for match in matches1:\n",
    "    x=x+1\n",
    "    str1+=match\n",
    "print(str1)\n",
    "\n",
    "#print(\"--- %s seconds ---\" % (time.time() - start_time))"
   ]
  },
  {
   "cell_type": "code",
   "execution_count": 23,
   "metadata": {},
   "outputs": [
    {
     "name": "stdout",
     "output_type": "stream",
     "text": [
      "airport expand waiting face river rich carpenter beneficial flock \n",
      "grip eminent ten rake competition science wicked worried communicate deeply example permit \n",
      "satisfy imaginary sweltering battle repusive jittery shirt festive tub picayune futuristic motion \n",
      "comfortable rabid question instrument tow dramatic mourn cakes listen female one rail cool extend tip \n",
      "thunder sister prepare joyous wheel two drawer cloudy goofy mountain empty upset nifty rhythm zoo bed offend \n",
      "gleaming birthday cuddly chop sand overrated jolly melt uneven home marked sore tax pull lettuce \n",
      "chin retire mixed school brass division spotty electric strange chase sink grease hateful \n",
      "agree analyze illfated realize fade follow yoke\n",
      "Contrary to popular belief Lorem Ipsum is not simply random text It has roots in a piece of \n",
      "classical Latin literature from 45 BC making it over 2000 years old Richard McClintock a Latin \n",
      "professor at HampdenSydney College in Virginia looked up one of the more obscure Latin words \n",
      "consectetur from a Lorem Ipsum passage and going through the cites of the word in classical literature \n",
      "discovered the undoubtable source Lorem Ipsum comes from sections 11032 and 11033 of \n",
      "de Finibus Bonorum et M\n",
      "alorum The Extremes of Good and Evil by Cicero written in 45 BC This \n",
      "book is a treatise on the theory of ethics very popular during the Renaissance The first line of \n",
      "Lorem Ipsum Lorem ipsum dolor sit amet comes from a line in section 11032\n",
      "The standard chunk of Lorem Ipsum used since the 1500s is reproduced below for those interested \n",
      "Sections 11032 and 11033 from de Finibus Bonorum et Malorum by Cicero are also \n",
      "reproduced in their exact original form accompanied by English versions from the 1914 translation by H Rackham\n",
      "\n",
      "\n",
      "--- 0.0040819644927978516 seconds ---\n"
     ]
    }
   ],
   "source": [
    "start_time1 = time.time()\n",
    "\n",
    "f = open(\"random words\", \"r\")\n",
    "str1 = \"\"\n",
    "paragraph = f.read()\n",
    "for char in paragraph:\n",
    "    if char==\"@\" or char==\"!\" or char==\"`\" or char==\"#\" or char==\"!\" or char==\"$\" or char==\"%\" or char==\"^\" or char==\"&\" or char==\"*\" or char==\"(\" or char==\")\" or char==\"-\" or char==\"_\" or char==\"+\" or char==\"=\" or char==\"\\\"\" or char==\",\" or char==\".\":\n",
    "        continue\n",
    "    str1+=char\n",
    "print(str1)\n",
    "\n",
    "print(\"--- %s seconds ---\" % (time.time() - start_time1))"
   ]
  },
  {
   "cell_type": "code",
   "execution_count": null,
   "metadata": {},
   "outputs": [],
   "source": []
  }
 ],
 "metadata": {
  "kernelspec": {
   "display_name": "Python 3",
   "language": "python",
   "name": "python3"
  },
  "language_info": {
   "codemirror_mode": {
    "name": "ipython",
    "version": 3
   },
   "file_extension": ".py",
   "mimetype": "text/x-python",
   "name": "python",
   "nbconvert_exporter": "python",
   "pygments_lexer": "ipython3",
   "version": "3.8.3"
  }
 },
 "nbformat": 4,
 "nbformat_minor": 4
}
